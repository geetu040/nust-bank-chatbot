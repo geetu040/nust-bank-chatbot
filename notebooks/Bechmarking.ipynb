{
  "cells": [
    {
      "cell_type": "markdown",
      "source": [
        "[![Open in Colab](https://colab.research.google.com/assets/colab-badge.svg)](https://colab.research.google.com/drive/1IX6uTYvCv7NQujX6gASEhVfIQZX4-tac)"
      ],
      "metadata": {
        "id": "Hk_QhdbkEz1a"
      }
    },
    {
      "cell_type": "code",
      "execution_count": 1,
      "metadata": {
        "execution": {
          "iopub.execute_input": "2025-05-20T04:23:11.554469Z",
          "iopub.status.busy": "2025-05-20T04:23:11.553810Z",
          "iopub.status.idle": "2025-05-20T04:23:17.279666Z",
          "shell.execute_reply": "2025-05-20T04:23:17.278716Z",
          "shell.execute_reply.started": "2025-05-20T04:23:11.554430Z"
        },
        "trusted": true,
        "id": "utbsxPM8Eks2",
        "outputId": "efd8ec9a-9367-4ed9-fa8e-6b8df708fdec",
        "colab": {
          "base_uri": "https://localhost:8080/"
        }
      },
      "outputs": [
        {
          "output_type": "stream",
          "name": "stdout",
          "text": [
            "Collecting evaluate\n",
            "  Downloading evaluate-0.4.3-py3-none-any.whl.metadata (9.2 kB)\n",
            "Collecting rouge_score\n",
            "  Downloading rouge_score-0.1.2.tar.gz (17 kB)\n",
            "  Preparing metadata (setup.py) ... \u001b[?25l\u001b[?25hdone\n",
            "Requirement already satisfied: datasets>=2.0.0 in /usr/local/lib/python3.11/dist-packages (from evaluate) (2.14.4)\n",
            "Requirement already satisfied: numpy>=1.17 in /usr/local/lib/python3.11/dist-packages (from evaluate) (2.0.2)\n",
            "Requirement already satisfied: dill in /usr/local/lib/python3.11/dist-packages (from evaluate) (0.3.7)\n",
            "Requirement already satisfied: pandas in /usr/local/lib/python3.11/dist-packages (from evaluate) (2.2.2)\n",
            "Requirement already satisfied: requests>=2.19.0 in /usr/local/lib/python3.11/dist-packages (from evaluate) (2.32.3)\n",
            "Requirement already satisfied: tqdm>=4.62.1 in /usr/local/lib/python3.11/dist-packages (from evaluate) (4.67.1)\n",
            "Requirement already satisfied: xxhash in /usr/local/lib/python3.11/dist-packages (from evaluate) (3.5.0)\n",
            "Requirement already satisfied: multiprocess in /usr/local/lib/python3.11/dist-packages (from evaluate) (0.70.15)\n",
            "Requirement already satisfied: fsspec>=2021.05.0 in /usr/local/lib/python3.11/dist-packages (from fsspec[http]>=2021.05.0->evaluate) (2025.3.2)\n",
            "Requirement already satisfied: huggingface-hub>=0.7.0 in /usr/local/lib/python3.11/dist-packages (from evaluate) (0.31.2)\n",
            "Requirement already satisfied: packaging in /usr/local/lib/python3.11/dist-packages (from evaluate) (24.2)\n",
            "Requirement already satisfied: absl-py in /usr/local/lib/python3.11/dist-packages (from rouge_score) (1.4.0)\n",
            "Requirement already satisfied: nltk in /usr/local/lib/python3.11/dist-packages (from rouge_score) (3.9.1)\n",
            "Requirement already satisfied: six>=1.14.0 in /usr/local/lib/python3.11/dist-packages (from rouge_score) (1.17.0)\n",
            "Requirement already satisfied: pyarrow>=8.0.0 in /usr/local/lib/python3.11/dist-packages (from datasets>=2.0.0->evaluate) (18.1.0)\n",
            "Requirement already satisfied: aiohttp in /usr/local/lib/python3.11/dist-packages (from datasets>=2.0.0->evaluate) (3.11.15)\n",
            "Requirement already satisfied: pyyaml>=5.1 in /usr/local/lib/python3.11/dist-packages (from datasets>=2.0.0->evaluate) (6.0.2)\n",
            "Requirement already satisfied: filelock in /usr/local/lib/python3.11/dist-packages (from huggingface-hub>=0.7.0->evaluate) (3.18.0)\n",
            "Requirement already satisfied: typing-extensions>=3.7.4.3 in /usr/local/lib/python3.11/dist-packages (from huggingface-hub>=0.7.0->evaluate) (4.13.2)\n",
            "Requirement already satisfied: charset-normalizer<4,>=2 in /usr/local/lib/python3.11/dist-packages (from requests>=2.19.0->evaluate) (3.4.2)\n",
            "Requirement already satisfied: idna<4,>=2.5 in /usr/local/lib/python3.11/dist-packages (from requests>=2.19.0->evaluate) (3.10)\n",
            "Requirement already satisfied: urllib3<3,>=1.21.1 in /usr/local/lib/python3.11/dist-packages (from requests>=2.19.0->evaluate) (2.4.0)\n",
            "Requirement already satisfied: certifi>=2017.4.17 in /usr/local/lib/python3.11/dist-packages (from requests>=2.19.0->evaluate) (2025.4.26)\n",
            "Requirement already satisfied: click in /usr/local/lib/python3.11/dist-packages (from nltk->rouge_score) (8.2.0)\n",
            "Requirement already satisfied: joblib in /usr/local/lib/python3.11/dist-packages (from nltk->rouge_score) (1.5.0)\n",
            "Requirement already satisfied: regex>=2021.8.3 in /usr/local/lib/python3.11/dist-packages (from nltk->rouge_score) (2024.11.6)\n",
            "Requirement already satisfied: python-dateutil>=2.8.2 in /usr/local/lib/python3.11/dist-packages (from pandas->evaluate) (2.9.0.post0)\n",
            "Requirement already satisfied: pytz>=2020.1 in /usr/local/lib/python3.11/dist-packages (from pandas->evaluate) (2025.2)\n",
            "Requirement already satisfied: tzdata>=2022.7 in /usr/local/lib/python3.11/dist-packages (from pandas->evaluate) (2025.2)\n",
            "Requirement already satisfied: aiohappyeyeballs>=2.3.0 in /usr/local/lib/python3.11/dist-packages (from aiohttp->datasets>=2.0.0->evaluate) (2.6.1)\n",
            "Requirement already satisfied: aiosignal>=1.1.2 in /usr/local/lib/python3.11/dist-packages (from aiohttp->datasets>=2.0.0->evaluate) (1.3.2)\n",
            "Requirement already satisfied: attrs>=17.3.0 in /usr/local/lib/python3.11/dist-packages (from aiohttp->datasets>=2.0.0->evaluate) (25.3.0)\n",
            "Requirement already satisfied: frozenlist>=1.1.1 in /usr/local/lib/python3.11/dist-packages (from aiohttp->datasets>=2.0.0->evaluate) (1.6.0)\n",
            "Requirement already satisfied: multidict<7.0,>=4.5 in /usr/local/lib/python3.11/dist-packages (from aiohttp->datasets>=2.0.0->evaluate) (6.4.3)\n",
            "Requirement already satisfied: propcache>=0.2.0 in /usr/local/lib/python3.11/dist-packages (from aiohttp->datasets>=2.0.0->evaluate) (0.3.1)\n",
            "Requirement already satisfied: yarl<2.0,>=1.17.0 in /usr/local/lib/python3.11/dist-packages (from aiohttp->datasets>=2.0.0->evaluate) (1.20.0)\n",
            "Downloading evaluate-0.4.3-py3-none-any.whl (84 kB)\n",
            "\u001b[2K   \u001b[90m━━━━━━━━━━━━━━━━━━━━━━━━━━━━━━━━━━━━━━━━\u001b[0m \u001b[32m84.0/84.0 kB\u001b[0m \u001b[31m3.6 MB/s\u001b[0m eta \u001b[36m0:00:00\u001b[0m\n",
            "\u001b[?25hBuilding wheels for collected packages: rouge_score\n",
            "  Building wheel for rouge_score (setup.py) ... \u001b[?25l\u001b[?25hdone\n",
            "  Created wheel for rouge_score: filename=rouge_score-0.1.2-py3-none-any.whl size=24934 sha256=3bb9c65d8ee1e0c0c9d5c16f92e50e3b0120bd272b0b2444664eddbd344c8715\n",
            "  Stored in directory: /root/.cache/pip/wheels/1e/19/43/8a442dc83660ca25e163e1bd1f89919284ab0d0c1475475148\n",
            "Successfully built rouge_score\n",
            "Installing collected packages: rouge_score, evaluate\n",
            "Successfully installed evaluate-0.4.3 rouge_score-0.1.2\n"
          ]
        }
      ],
      "source": [
        "!pip install evaluate rouge_score"
      ]
    },
    {
      "cell_type": "code",
      "execution_count": 5,
      "metadata": {
        "execution": {
          "iopub.execute_input": "2025-05-20T04:47:46.484189Z",
          "iopub.status.busy": "2025-05-20T04:47:46.483472Z",
          "iopub.status.idle": "2025-05-20T04:47:48.230882Z",
          "shell.execute_reply": "2025-05-20T04:47:48.230058Z",
          "shell.execute_reply.started": "2025-05-20T04:47:46.484161Z"
        },
        "trusted": true,
        "id": "VllDLcgeEks4",
        "colab": {
          "base_uri": "https://localhost:8080/",
          "height": 138,
          "referenced_widgets": [
            "5c6a6852dcae4d07989ea8a6df883191",
            "726dbbbdeeff4461bd067de43e59e8e8",
            "59cdb0ec34134880b31a5b27fbc4d2bf",
            "a0ad9a9e559b472ba5408adb268eaf53",
            "f7a35c0f3756499b91fb96b60c2b225a",
            "d530cc1fa5a1436490d1d181e5649320",
            "753c738755f04b5a80d502ee1e1e30c2",
            "71299b543e61414192f7d3d2f8e3f383",
            "79c946cd93a44bc1b0adbe69b4ee3af7",
            "b26b7f4c3cd24a77baba0ff9c8699475",
            "cb15bb086f484cbcb788d717a9c9437e"
          ]
        },
        "outputId": "997f847e-cc4a-47d2-bf1f-3ccb8cfa641d"
      },
      "outputs": [
        {
          "output_type": "stream",
          "name": "stderr",
          "text": [
            "/usr/local/lib/python3.11/dist-packages/huggingface_hub/utils/_auth.py:104: UserWarning: \n",
            "Error while fetching `HF_TOKEN` secret value from your vault: 'Requesting secret HF_TOKEN timed out. Secrets can only be fetched when running from the Colab UI.'.\n",
            "You are not authenticated with the Hugging Face Hub in this notebook.\n",
            "If the error persists, please let us know by opening an issue on GitHub (https://github.com/huggingface/huggingface_hub/issues/new).\n",
            "  warnings.warn(\n"
          ]
        },
        {
          "output_type": "display_data",
          "data": {
            "text/plain": [
              "Downloading builder script:   0%|          | 0.00/6.27k [00:00<?, ?B/s]"
            ],
            "application/vnd.jupyter.widget-view+json": {
              "version_major": 2,
              "version_minor": 0,
              "model_id": "5c6a6852dcae4d07989ea8a6df883191"
            }
          },
          "metadata": {}
        }
      ],
      "source": [
        "import torch\n",
        "import json\n",
        "from tqdm import tqdm\n",
        "from chatbot import Chatbot, ChatbotConfig\n",
        "import evaluate\n",
        "import gc\n",
        "import matplotlib.pyplot as plt\n",
        "import seaborn as sns\n",
        "import pandas as pd\n",
        "\n",
        "rouge = evaluate.load(\"rouge\")\n",
        "\n",
        "def compute_f1(pred_tokens, ref_tokens):\n",
        "    common = set(pred_tokens) & set(ref_tokens)\n",
        "    if not common:\n",
        "        return 0.0\n",
        "    precision = len(common) / len(pred_tokens)\n",
        "    recall = len(common) / len(ref_tokens)\n",
        "    return 2 * (precision * recall) / (precision + recall)\n",
        "\n",
        "test_data = {\n",
        "    \"What is NSA in context of NUST back account?\": \"NUST Sahar Accounts\",\n",
        "    \"What does PWRA stand for?\": \"PakWatan Remittance Account\",\n",
        "    \"How do I delete my mobile banking account?\": \"for security reasons, deactivation or deletion requests must be submitted by calling the helpline at +92 (51) 111 000 494.\",\n",
        "    \"What are the available Liability Products & Services?\": \"NUST Asaan Account (NAA), Little Champs Account , NUST Sahar Accounts, NUST Waqaar Account, PakWatan Remittance Account, NUST Home Remittance, RDA Digital Customer Onboarding , Current Deposit Account (CDA), Value Plus Current Account (Individual) (VPCA), Value Plus Business Account (VP-BA), Value Premium Business Account (VPBA), NUST Maximiser Account, NUST Special Deposit Account (NSDA), Profit And Loss Sharing Account (PLS), NUST Asaan Digital Account, NUST Asaan Digital Remittance Account, NUST Freelancer Digital Account.\",\n",
        "    \"What's the daily transfer limit on the mobile banking app?\": \"1 million PKR. However, it can vary based on account type. You can check your specific limit in the “Limits” section of the app.\",\n",
        "    \"What is the Target Market of Profit and Loss Sharing Account (PLS)?\": \"Individuals (either singly or jointly), Proprietorship Concerns, Partnership Firms, Public and Private Limited Companies, Government Organizations, Corporations, Clubs, Societies, Associations, NGOs/NPOs/Charitable Organizations\",\n",
        "    \"can i use the mobile app while i am overseas?\": \"yes\",\n",
        "    \"What is the Credit Balance Limit in NUST Freelancer Digital Account?\": \"USD 5,000 or equivalent\",\n",
        "    \"What is the profit rate for PWRA?\": \"0.19\",\n",
        "\n",
        "\t\"How do I change my funds transfer limit?\": \"Go to “My profile” → “Manage Limit” in the app and select “Change FT/IBFT” limits.\",\n",
        "\t\"How can I add or update a funds transfer beneficiary in the app?\": \"Use “Transfer Funds” → “New Beneficiaries” to add or update recipient details.\",\n",
        "\t\"Can I use the app to make international transactions?\": \"Yes, go to card management → manage debit card → select “international tranx activation”.\",\n",
        "\t\"Does the NUST app support digital wallets or contactless payments?\": \"Yes, but via a separate app called NUST Digital Wallets.\",\n",
        "\t\"Can I use the app abroad?\": \"Yes, just ensure you have internet and your registered mobile number is active for OTPs.\",\n",
        "\t\"How can I reset my login password if I forget it?\": \"Tap “Forgot Password” on the login screen and follow the steps using your registered mobile number.\",\n",
        "\t\"Is biometric login available in the app?\": \"Yes, you can enable it via the “Profile” section under “Fingerprint Login”.\",\n",
        "\t\"What can I pay using the Bill Payment feature?\": \"Utility, internet, mobile bills, and government fees.\",\n",
        "\t\"How do I delete my mobile banking account?\": \"Call the helpline at +92 (51) 111 000 494 to request deactivation or deletion.\"\n",
        "}"
      ]
    },
    {
      "cell_type": "code",
      "execution_count": null,
      "metadata": {
        "execution": {
          "iopub.execute_input": "2025-05-20T04:24:04.973535Z",
          "iopub.status.busy": "2025-05-20T04:24:04.972220Z",
          "iopub.status.idle": "2025-05-20T04:24:04.994136Z",
          "shell.execute_reply": "2025-05-20T04:24:04.993340Z",
          "shell.execute_reply.started": "2025-05-20T04:24:04.973492Z"
        },
        "trusted": true,
        "id": "fzMJn86AEks6"
      },
      "outputs": [],
      "source": [
        "# from huggingface_hub import login\n",
        "# login()"
      ]
    },
    {
      "cell_type": "code",
      "execution_count": 7,
      "metadata": {
        "execution": {
          "iopub.execute_input": "2025-05-20T04:48:19.071098Z",
          "iopub.status.busy": "2025-05-20T04:48:19.070313Z",
          "iopub.status.idle": "2025-05-20T04:48:19.078406Z",
          "shell.execute_reply": "2025-05-20T04:48:19.077626Z",
          "shell.execute_reply.started": "2025-05-20T04:48:19.071073Z"
        },
        "trusted": true,
        "id": "IEaJZCTFEks7"
      },
      "outputs": [],
      "source": [
        "def benchmark(config: ChatbotConfig):\n",
        "    chatbot = Chatbot(config)\n",
        "\n",
        "    scores = []\n",
        "    rouge_results = {}\n",
        "\n",
        "    questions = list(test_data.keys())\n",
        "    answers = list(test_data.values())\n",
        "    preds = chatbot.multiple_queries(questions)\n",
        "\n",
        "    for pred, ans in zip(preds, answers):\n",
        "        rouge_result = rouge.compute(predictions=[pred], references=[ans], use_stemmer=True)\n",
        "        for k, v in rouge_result.items():\n",
        "            rouge_results[k] = rouge_results.get(k, []) + [v]\n",
        "\n",
        "        ans = chatbot.tokenizer.encode(ans.lower())\n",
        "        pred = chatbot.tokenizer.encode(pred.lower())\n",
        "        score = compute_f1(ans, pred)\n",
        "        scores.append(score)\n",
        "\n",
        "    scores = sum(scores) / len(scores)\n",
        "    rouge_results = {k: sum(v) / len(v) for k, v in rouge_results.items()}\n",
        "    rouge_score = list(rouge_results.values())\n",
        "    rouge_score = sum(rouge_score) / len(rouge_score)\n",
        "\n",
        "    del chatbot\n",
        "    torch.cuda.empty_cache()\n",
        "    gc.collect()\n",
        "\n",
        "    return {\n",
        "        \"f1_score\": scores,\n",
        "        \"rouge_score\": rouge_score,\n",
        "        # **rouge_results,\n",
        "    }\n",
        "\n",
        "def plot_results(results):\n",
        "    # Convert to DataFrame for easy plotting\n",
        "    df = pd.DataFrame(results).T.reset_index().rename(columns={'index': 'model'})\n",
        "    df_melted = df.melt(id_vars='model', var_name='metric', value_name='score')\n",
        "\n",
        "    # Plot\n",
        "    plt.figure(figsize=(10, 6))\n",
        "    sns.barplot(data=df_melted, x='metric', y='score', hue='model')\n",
        "    plt.title('Model Metric Comparison')\n",
        "    plt.ylim(0, 1)\n",
        "    plt.legend(title='Model')\n",
        "    plt.tight_layout()\n",
        "    plt.show()"
      ]
    },
    {
      "cell_type": "code",
      "execution_count": 9,
      "metadata": {
        "execution": {
          "iopub.execute_input": "2025-05-20T04:48:39.521288Z",
          "iopub.status.busy": "2025-05-20T04:48:39.520764Z",
          "iopub.status.idle": "2025-05-20T04:49:35.537058Z",
          "shell.execute_reply": "2025-05-20T04:49:35.536305Z",
          "shell.execute_reply.started": "2025-05-20T04:48:39.521268Z"
        },
        "trusted": true,
        "colab": {
          "base_uri": "https://localhost:8080/",
          "height": 607
        },
        "id": "AaJN9XT3Eks9",
        "outputId": "5e95ee5b-8d88-4fc3-bf21-2dd79f48b4d5"
      },
      "outputs": [
        {
          "output_type": "display_data",
          "data": {
            "text/plain": [
              "<Figure size 1000x600 with 1 Axes>"
            ],
            "image/png": "[encoded data removed]"
          },
          "metadata": {}
        }
      ],
      "source": [
        "# top_k = {1, 3, 5, 7}\n",
        "\n",
        "states = {\n",
        "    \"flan_1\": ChatbotConfig(\n",
        "        chatbot_model_name=\"google/flan-t5-large\", # 783M\n",
        "        top_k=1,\n",
        "        device=\"cuda\",\n",
        "    ),\n",
        "    \"flan_3\": ChatbotConfig(\n",
        "        chatbot_model_name=\"google/flan-t5-large\", # 783M\n",
        "        top_k=3,\n",
        "        device=\"cuda\",\n",
        "    ),\n",
        "    \"flan_5\": ChatbotConfig(\n",
        "        chatbot_model_name=\"google/flan-t5-large\", # 783M\n",
        "        top_k=5,\n",
        "        device=\"cuda\",\n",
        "    ),\n",
        "    \"flan_7\": ChatbotConfig(\n",
        "        chatbot_model_name=\"google/flan-t5-large\", # 783M\n",
        "        top_k=7,\n",
        "        device=\"cuda\",\n",
        "    ),\n",
        "}\n",
        "results = {}\n",
        "for k, v in states.items():\n",
        "    results[k] = benchmark(v)\n",
        "plot_results(results)"
      ]
    },
    {
      "cell_type": "code",
      "execution_count": 10,
      "metadata": {
        "execution": {
          "iopub.execute_input": "2025-05-20T04:49:35.538609Z",
          "iopub.status.busy": "2025-05-20T04:49:35.538306Z",
          "iopub.status.idle": "2025-05-20T04:50:59.593306Z",
          "shell.execute_reply": "2025-05-20T04:50:59.592603Z",
          "shell.execute_reply.started": "2025-05-20T04:49:35.538592Z"
        },
        "trusted": true,
        "colab": {
          "base_uri": "https://localhost:8080/",
          "height": 607
        },
        "id": "BjwIpcIpEks-",
        "outputId": "71cf2980-258d-46ba-da76-a2e04257db60"
      },
      "outputs": [
        {
          "output_type": "display_data",
          "data": {
            "text/plain": [
              "<Figure size 1000x600 with 1 Axes>"
            ],
            "image/png": "[encoded data removed]"
          },
          "metadata": {}
        }
      ],
      "source": [
        "# top_k = {1, 3, 5, 7}\n",
        "\n",
        "states = {\n",
        "    \"qwen_1\": ChatbotConfig(\n",
        "        chatbot_model_name=\"Qwen/Qwen3-0.6B\",\n",
        "        top_k=1,\n",
        "        device=\"cuda\",\n",
        "    ),\n",
        "    \"qwen_3\": ChatbotConfig(\n",
        "        chatbot_model_name=\"Qwen/Qwen3-0.6B\",\n",
        "        top_k=3,\n",
        "        device=\"cuda\",\n",
        "    ),\n",
        "    \"qwen_5\": ChatbotConfig(\n",
        "        chatbot_model_name=\"Qwen/Qwen3-0.6B\",\n",
        "        top_k=5,\n",
        "        device=\"cuda\",\n",
        "    ),\n",
        "    \"qwen_7\": ChatbotConfig(\n",
        "        chatbot_model_name=\"Qwen/Qwen3-0.6B\",\n",
        "        top_k=7,\n",
        "        device=\"cuda\",\n",
        "    ),\n",
        "}\n",
        "results = {}\n",
        "for k, v in states.items():\n",
        "    results[k] = benchmark(v)\n",
        "plot_results(results)"
      ]
    },
    {
      "cell_type": "code",
      "execution_count": 13,
      "metadata": {
        "execution": {
          "iopub.execute_input": "2025-05-20T04:56:09.137929Z",
          "iopub.status.busy": "2025-05-20T04:56:09.137275Z",
          "iopub.status.idle": "2025-05-20T04:56:50.611411Z",
          "shell.execute_reply": "2025-05-20T04:56:50.610645Z",
          "shell.execute_reply.started": "2025-05-20T04:56:09.137903Z"
        },
        "trusted": true,
        "colab": {
          "base_uri": "https://localhost:8080/",
          "height": 607
        },
        "id": "PpCMtZRVEktA",
        "outputId": "aec97472-9d69-490b-e37c-b7826b7a2777"
      },
      "outputs": [
        {
          "output_type": "display_data",
          "data": {
            "text/plain": [
              "<Figure size 1000x600 with 1 Axes>"
            ],
            "image/png": "[encoded data removed]"
          },
          "metadata": {}
        }
      ],
      "source": [
        "# model = {flan_large, flan_base, qwen3, qwen2.5}\n",
        "\n",
        "states = {\n",
        "    \"flan_large_k=1\": ChatbotConfig(\n",
        "        chatbot_model_name=\"google/flan-t5-large\",\n",
        "        top_k=1,\n",
        "        device=\"cuda\",\n",
        "    ),\n",
        "    \"flan_base_k=1\": ChatbotConfig(\n",
        "        chatbot_model_name=\"google/flan-t5-base\",\n",
        "        top_k=1,\n",
        "        device=\"cuda\",\n",
        "    ),\n",
        "    \"qwen3_k=5\": ChatbotConfig(\n",
        "        chatbot_model_name=\"Qwen/Qwen3-0.6B\",\n",
        "        top_k=5,\n",
        "        device=\"cuda\",\n",
        "    ),\n",
        "    \"qwen2.5_k=5\": ChatbotConfig(\n",
        "        chatbot_model_name=\"Qwen/Qwen2.5-0.5B-Instruct\",\n",
        "        top_k=5,\n",
        "        device=\"cuda\",\n",
        "    ),\n",
        "}\n",
        "results = {}\n",
        "for k, v in states.items():\n",
        "    results[k] = benchmark(v)\n",
        "plot_results(results)"
      ]
    },
    {
      "cell_type": "code",
      "execution_count": null,
      "metadata": {
        "trusted": true,
        "id": "4ba7_ibJEktD"
      },
      "outputs": [],
      "source": []
    }
  ],
  "metadata": {
    "kaggle": {
      "accelerator": "gpu",
      "dataSources": [],
      "dockerImageVersionId": 31041,
      "isGpuEnabled": true,
      "isInternetEnabled": true,
      "language": "python",
      "sourceType": "notebook"
    },
    "kernelspec": {
      "display_name": "Python 3",
      "name": "python3"
    },
    "language_info": {
      "codemirror_mode": {
        "name": "ipython",
        "version": 3
      },
      "file_extension": ".py",
      "mimetype": "text/x-python",
      "name": "python",
      "nbconvert_exporter": "python",
      "pygments_lexer": "ipython3",
      "version": "3.11.11"
    },
    "colab": {
      "provenance": [],
      "gpuType": "T4"
    },
    "accelerator": "GPU",
    "widgets": {
      "application/vnd.jupyter.widget-state+json": {
        "5c6a6852dcae4d07989ea8a6df883191": {
          "model_module": "@jupyter-widgets/controls",
          "model_name": "HBoxModel",
          "model_module_version": "1.5.0",
          "state": {
            "_dom_classes": [],
            "_model_module": "@jupyter-widgets/controls",
            "_model_module_version": "1.5.0",
            "_model_name": "HBoxModel",
            "_view_count": null,
            "_view_module": "@jupyter-widgets/controls",
            "_view_module_version": "1.5.0",
            "_view_name": "HBoxView",
            "box_style": "",
            "children": [
              "IPY_MODEL_726dbbbdeeff4461bd067de43e59e8e8",
              "IPY_MODEL_59cdb0ec34134880b31a5b27fbc4d2bf",
              "IPY_MODEL_a0ad9a9e559b472ba5408adb268eaf53"
            ],
            "layout": "IPY_MODEL_f7a35c0f3756499b91fb96b60c2b225a"
          }
        },
        "726dbbbdeeff4461bd067de43e59e8e8": {
          "model_module": "@jupyter-widgets/controls",
          "model_name": "HTMLModel",
          "model_module_version": "1.5.0",
          "state": {
            "_dom_classes": [],
            "_model_module": "@jupyter-widgets/controls",
            "_model_module_version": "1.5.0",
            "_model_name": "HTMLModel",
            "_view_count": null,
            "_view_module": "@jupyter-widgets/controls",
            "_view_module_version": "1.5.0",
            "_view_name": "HTMLView",
            "description": "",
            "description_tooltip": null,
            "layout": "IPY_MODEL_d530cc1fa5a1436490d1d181e5649320",
            "placeholder": "​",
            "style": "IPY_MODEL_753c738755f04b5a80d502ee1e1e30c2",
            "value": "Downloading builder script: 100%"
          }
        },
        "59cdb0ec34134880b31a5b27fbc4d2bf": {
          "model_module": "@jupyter-widgets/controls",
          "model_name": "FloatProgressModel",
          "model_module_version": "1.5.0",
          "state": {
            "_dom_classes": [],
            "_model_module": "@jupyter-widgets/controls",
            "_model_module_version": "1.5.0",
            "_model_name": "FloatProgressModel",
            "_view_count": null,
            "_view_module": "@jupyter-widgets/controls",
            "_view_module_version": "1.5.0",
            "_view_name": "ProgressView",
            "bar_style": "success",
            "description": "",
            "description_tooltip": null,
            "layout": "IPY_MODEL_71299b543e61414192f7d3d2f8e3f383",
            "max": 6270,
            "min": 0,
            "orientation": "horizontal",
            "style": "IPY_MODEL_79c946cd93a44bc1b0adbe69b4ee3af7",
            "value": 6270
          }
        },
        "a0ad9a9e559b472ba5408adb268eaf53": {
          "model_module": "@jupyter-widgets/controls",
          "model_name": "HTMLModel",
          "model_module_version": "1.5.0",
          "state": {
            "_dom_classes": [],
            "_model_module": "@jupyter-widgets/controls",
            "_model_module_version": "1.5.0",
            "_model_name": "HTMLModel",
            "_view_count": null,
            "_view_module": "@jupyter-widgets/controls",
            "_view_module_version": "1.5.0",
            "_view_name": "HTMLView",
            "description": "",
            "description_tooltip": null,
            "layout": "IPY_MODEL_b26b7f4c3cd24a77baba0ff9c8699475",
            "placeholder": "​",
            "style": "IPY_MODEL_cb15bb086f484cbcb788d717a9c9437e",
            "value": " 6.27k/6.27k [00:00&lt;00:00, 450kB/s]"
          }
        },
        "f7a35c0f3756499b91fb96b60c2b225a": {
          "model_module": "@jupyter-widgets/base",
          "model_name": "LayoutModel",
          "model_module_version": "1.2.0",
          "state": {
            "_model_module": "@jupyter-widgets/base",
            "_model_module_version": "1.2.0",
            "_model_name": "LayoutModel",
            "_view_count": null,
            "_view_module": "@jupyter-widgets/base",
            "_view_module_version": "1.2.0",
            "_view_name": "LayoutView",
            "align_content": null,
            "align_items": null,
            "align_self": null,
            "border": null,
            "bottom": null,
            "display": null,
            "flex": null,
            "flex_flow": null,
            "grid_area": null,
            "grid_auto_columns": null,
            "grid_auto_flow": null,
            "grid_auto_rows": null,
            "grid_column": null,
            "grid_gap": null,
            "grid_row": null,
            "grid_template_areas": null,
            "grid_template_columns": null,
            "grid_template_rows": null,
            "height": null,
            "justify_content": null,
            "justify_items": null,
            "left": null,
            "margin": null,
            "max_height": null,
            "max_width": null,
            "min_height": null,
            "min_width": null,
            "object_fit": null,
            "object_position": null,
            "order": null,
            "overflow": null,
            "overflow_x": null,
            "overflow_y": null,
            "padding": null,
            "right": null,
            "top": null,
            "visibility": null,
            "width": null
          }
        },
        "d530cc1fa5a1436490d1d181e5649320": {
          "model_module": "@jupyter-widgets/base",
          "model_name": "LayoutModel",
          "model_module_version": "1.2.0",
          "state": {
            "_model_module": "@jupyter-widgets/base",
            "_model_module_version": "1.2.0",
            "_model_name": "LayoutModel",
            "_view_count": null,
            "_view_module": "@jupyter-widgets/base",
            "_view_module_version": "1.2.0",
            "_view_name": "LayoutView",
            "align_content": null,
            "align_items": null,
            "align_self": null,
            "border": null,
            "bottom": null,
            "display": null,
            "flex": null,
            "flex_flow": null,
            "grid_area": null,
            "grid_auto_columns": null,
            "grid_auto_flow": null,
            "grid_auto_rows": null,
            "grid_column": null,
            "grid_gap": null,
            "grid_row": null,
            "grid_template_areas": null,
            "grid_template_columns": null,
            "grid_template_rows": null,
            "height": null,
            "justify_content": null,
            "justify_items": null,
            "left": null,
            "margin": null,
            "max_height": null,
            "max_width": null,
            "min_height": null,
            "min_width": null,
            "object_fit": null,
            "object_position": null,
            "order": null,
            "overflow": null,
            "overflow_x": null,
            "overflow_y": null,
            "padding": null,
            "right": null,
            "top": null,
            "visibility": null,
            "width": null
          }
        },
        "753c738755f04b5a80d502ee1e1e30c2": {
          "model_module": "@jupyter-widgets/controls",
          "model_name": "DescriptionStyleModel",
          "model_module_version": "1.5.0",
          "state": {
            "_model_module": "@jupyter-widgets/controls",
            "_model_module_version": "1.5.0",
            "_model_name": "DescriptionStyleModel",
            "_view_count": null,
            "_view_module": "@jupyter-widgets/base",
            "_view_module_version": "1.2.0",
            "_view_name": "StyleView",
            "description_width": ""
          }
        },
        "71299b543e61414192f7d3d2f8e3f383": {
          "model_module": "@jupyter-widgets/base",
          "model_name": "LayoutModel",
          "model_module_version": "1.2.0",
          "state": {
            "_model_module": "@jupyter-widgets/base",
            "_model_module_version": "1.2.0",
            "_model_name": "LayoutModel",
            "_view_count": null,
            "_view_module": "@jupyter-widgets/base",
            "_view_module_version": "1.2.0",
            "_view_name": "LayoutView",
            "align_content": null,
            "align_items": null,
            "align_self": null,
            "border": null,
            "bottom": null,
            "display": null,
            "flex": null,
            "flex_flow": null,
            "grid_area": null,
            "grid_auto_columns": null,
            "grid_auto_flow": null,
            "grid_auto_rows": null,
            "grid_column": null,
            "grid_gap": null,
            "grid_row": null,
            "grid_template_areas": null,
            "grid_template_columns": null,
            "grid_template_rows": null,
            "height": null,
            "justify_content": null,
            "justify_items": null,
            "left": null,
            "margin": null,
            "max_height": null,
            "max_width": null,
            "min_height": null,
            "min_width": null,
            "object_fit": null,
            "object_position": null,
            "order": null,
            "overflow": null,
            "overflow_x": null,
            "overflow_y": null,
            "padding": null,
            "right": null,
            "top": null,
            "visibility": null,
            "width": null
          }
        },
        "79c946cd93a44bc1b0adbe69b4ee3af7": {
          "model_module": "@jupyter-widgets/controls",
          "model_name": "ProgressStyleModel",
          "model_module_version": "1.5.0",
          "state": {
            "_model_module": "@jupyter-widgets/controls",
            "_model_module_version": "1.5.0",
            "_model_name": "ProgressStyleModel",
            "_view_count": null,
            "_view_module": "@jupyter-widgets/base",
            "_view_module_version": "1.2.0",
            "_view_name": "StyleView",
            "bar_color": null,
            "description_width": ""
          }
        },
        "b26b7f4c3cd24a77baba0ff9c8699475": {
          "model_module": "@jupyter-widgets/base",
          "model_name": "LayoutModel",
          "model_module_version": "1.2.0",
          "state": {
            "_model_module": "@jupyter-widgets/base",
            "_model_module_version": "1.2.0",
            "_model_name": "LayoutModel",
            "_view_count": null,
            "_view_module": "@jupyter-widgets/base",
            "_view_module_version": "1.2.0",
            "_view_name": "LayoutView",
            "align_content": null,
            "align_items": null,
            "align_self": null,
            "border": null,
            "bottom": null,
            "display": null,
            "flex": null,
            "flex_flow": null,
            "grid_area": null,
            "grid_auto_columns": null,
            "grid_auto_flow": null,
            "grid_auto_rows": null,
            "grid_column": null,
            "grid_gap": null,
            "grid_row": null,
            "grid_template_areas": null,
            "grid_template_columns": null,
            "grid_template_rows": null,
            "height": null,
            "justify_content": null,
            "justify_items": null,
            "left": null,
            "margin": null,
            "max_height": null,
            "max_width": null,
            "min_height": null,
            "min_width": null,
            "object_fit": null,
            "object_position": null,
            "order": null,
            "overflow": null,
            "overflow_x": null,
            "overflow_y": null,
            "padding": null,
            "right": null,
            "top": null,
            "visibility": null,
            "width": null
          }
        },
        "cb15bb086f484cbcb788d717a9c9437e": {
          "model_module": "@jupyter-widgets/controls",
          "model_name": "DescriptionStyleModel",
          "model_module_version": "1.5.0",
          "state": {
            "_model_module": "@jupyter-widgets/controls",
            "_model_module_version": "1.5.0",
            "_model_name": "DescriptionStyleModel",
            "_view_count": null,
            "_view_module": "@jupyter-widgets/base",
            "_view_module_version": "1.2.0",
            "_view_name": "StyleView",
            "description_width": ""
          }
        }
      }
    }
  },
  "nbformat": 4,
  "nbformat_minor": 0
}