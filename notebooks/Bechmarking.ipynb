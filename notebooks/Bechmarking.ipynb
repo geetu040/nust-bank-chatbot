{
 "cells": [
  {
   "cell_type": "markdown",
   "metadata": {},
   "source": [
    "[![Open in Colab](https://colab.research.google.com/assets/colab-badge.svg)](https://colab.research.google.com/drive/1IX6uTYvCv7NQujX6gASEhVfIQZX4-tac)"
   ]
  },
  {
   "cell_type": "code",
   "execution_count": 3,
   "metadata": {
    "execution": {
     "iopub.execute_input": "2025-05-20T04:23:11.554469Z",
     "iopub.status.busy": "2025-05-20T04:23:11.553810Z",
     "iopub.status.idle": "2025-05-20T04:23:17.279666Z",
     "shell.execute_reply": "2025-05-20T04:23:17.278716Z",
     "shell.execute_reply.started": "2025-05-20T04:23:11.554430Z"
    },
    "trusted": true
   },
   "outputs": [
    {
     "name": "stdout",
     "output_type": "stream",
     "text": [
      "Collecting evaluate\n",
      "  Downloading evaluate-0.4.3-py3-none-any.whl.metadata (9.2 kB)\n",
      "Collecting rouge_score\n",
      "  Downloading rouge_score-0.1.2.tar.gz (17 kB)\n",
      "  Preparing metadata (setup.py) ... \u001b[?25l\u001b[?25hdone\n",
      "Requirement already satisfied: datasets>=2.0.0 in /usr/local/lib/python3.11/dist-packages (from evaluate) (3.6.0)\n",
      "Requirement already satisfied: numpy>=1.17 in /usr/local/lib/python3.11/dist-packages (from evaluate) (1.26.4)\n",
      "Requirement already satisfied: dill in /usr/local/lib/python3.11/dist-packages (from evaluate) (0.3.8)\n",
      "Requirement already satisfied: pandas in /usr/local/lib/python3.11/dist-packages (from evaluate) (2.2.3)\n",
      "Requirement already satisfied: requests>=2.19.0 in /usr/local/lib/python3.11/dist-packages (from evaluate) (2.32.3)\n",
      "Requirement already satisfied: tqdm>=4.62.1 in /usr/local/lib/python3.11/dist-packages (from evaluate) (4.67.1)\n",
      "Requirement already satisfied: xxhash in /usr/local/lib/python3.11/dist-packages (from evaluate) (3.5.0)\n",
      "Requirement already satisfied: multiprocess in /usr/local/lib/python3.11/dist-packages (from evaluate) (0.70.16)\n",
      "Requirement already satisfied: fsspec>=2021.05.0 in /usr/local/lib/python3.11/dist-packages (from fsspec[http]>=2021.05.0->evaluate) (2025.3.2)\n",
      "Requirement already satisfied: huggingface-hub>=0.7.0 in /usr/local/lib/python3.11/dist-packages (from evaluate) (0.31.1)\n",
      "Requirement already satisfied: packaging in /usr/local/lib/python3.11/dist-packages (from evaluate) (25.0)\n",
      "Requirement already satisfied: absl-py in /usr/local/lib/python3.11/dist-packages (from rouge_score) (1.4.0)\n",
      "Requirement already satisfied: nltk in /usr/local/lib/python3.11/dist-packages (from rouge_score) (3.9.1)\n",
      "Requirement already satisfied: six>=1.14.0 in /usr/local/lib/python3.11/dist-packages (from rouge_score) (1.17.0)\n",
      "Requirement already satisfied: filelock in /usr/local/lib/python3.11/dist-packages (from datasets>=2.0.0->evaluate) (3.18.0)\n",
      "Requirement already satisfied: pyarrow>=15.0.0 in /usr/local/lib/python3.11/dist-packages (from datasets>=2.0.0->evaluate) (19.0.1)\n",
      "Collecting fsspec>=2021.05.0 (from fsspec[http]>=2021.05.0->evaluate)\n",
      "  Downloading fsspec-2025.3.0-py3-none-any.whl.metadata (11 kB)\n",
      "Requirement already satisfied: pyyaml>=5.1 in /usr/local/lib/python3.11/dist-packages (from datasets>=2.0.0->evaluate) (6.0.2)\n",
      "Requirement already satisfied: aiohttp!=4.0.0a0,!=4.0.0a1 in /usr/local/lib/python3.11/dist-packages (from fsspec[http]>=2021.05.0->evaluate) (3.11.18)\n",
      "Requirement already satisfied: typing-extensions>=3.7.4.3 in /usr/local/lib/python3.11/dist-packages (from huggingface-hub>=0.7.0->evaluate) (4.13.2)\n",
      "Requirement already satisfied: hf-xet<2.0.0,>=1.1.0 in /usr/local/lib/python3.11/dist-packages (from huggingface-hub>=0.7.0->evaluate) (1.1.0)\n",
      "Requirement already satisfied: mkl_fft in /usr/local/lib/python3.11/dist-packages (from numpy>=1.17->evaluate) (1.3.8)\n",
      "Requirement already satisfied: mkl_random in /usr/local/lib/python3.11/dist-packages (from numpy>=1.17->evaluate) (1.2.4)\n",
      "Requirement already satisfied: mkl_umath in /usr/local/lib/python3.11/dist-packages (from numpy>=1.17->evaluate) (0.1.1)\n",
      "Requirement already satisfied: mkl in /usr/local/lib/python3.11/dist-packages (from numpy>=1.17->evaluate) (2025.1.0)\n",
      "Requirement already satisfied: tbb4py in /usr/local/lib/python3.11/dist-packages (from numpy>=1.17->evaluate) (2022.1.0)\n",
      "Requirement already satisfied: mkl-service in /usr/local/lib/python3.11/dist-packages (from numpy>=1.17->evaluate) (2.4.1)\n",
      "Requirement already satisfied: charset-normalizer<4,>=2 in /usr/local/lib/python3.11/dist-packages (from requests>=2.19.0->evaluate) (3.4.2)\n",
      "Requirement already satisfied: idna<4,>=2.5 in /usr/local/lib/python3.11/dist-packages (from requests>=2.19.0->evaluate) (3.10)\n",
      "Requirement already satisfied: urllib3<3,>=1.21.1 in /usr/local/lib/python3.11/dist-packages (from requests>=2.19.0->evaluate) (2.4.0)\n",
      "Requirement already satisfied: certifi>=2017.4.17 in /usr/local/lib/python3.11/dist-packages (from requests>=2.19.0->evaluate) (2025.4.26)\n",
      "Requirement already satisfied: click in /usr/local/lib/python3.11/dist-packages (from nltk->rouge_score) (8.1.8)\n",
      "Requirement already satisfied: joblib in /usr/local/lib/python3.11/dist-packages (from nltk->rouge_score) (1.5.0)\n",
      "Requirement already satisfied: regex>=2021.8.3 in /usr/local/lib/python3.11/dist-packages (from nltk->rouge_score) (2024.11.6)\n",
      "Requirement already satisfied: python-dateutil>=2.8.2 in /usr/local/lib/python3.11/dist-packages (from pandas->evaluate) (2.9.0.post0)\n",
      "Requirement already satisfied: pytz>=2020.1 in /usr/local/lib/python3.11/dist-packages (from pandas->evaluate) (2025.2)\n",
      "Requirement already satisfied: tzdata>=2022.7 in /usr/local/lib/python3.11/dist-packages (from pandas->evaluate) (2025.2)\n",
      "Requirement already satisfied: aiohappyeyeballs>=2.3.0 in /usr/local/lib/python3.11/dist-packages (from aiohttp!=4.0.0a0,!=4.0.0a1->fsspec[http]>=2021.05.0->evaluate) (2.6.1)\n",
      "Requirement already satisfied: aiosignal>=1.1.2 in /usr/local/lib/python3.11/dist-packages (from aiohttp!=4.0.0a0,!=4.0.0a1->fsspec[http]>=2021.05.0->evaluate) (1.3.2)\n",
      "Requirement already satisfied: attrs>=17.3.0 in /usr/local/lib/python3.11/dist-packages (from aiohttp!=4.0.0a0,!=4.0.0a1->fsspec[http]>=2021.05.0->evaluate) (25.3.0)\n",
      "Requirement already satisfied: frozenlist>=1.1.1 in /usr/local/lib/python3.11/dist-packages (from aiohttp!=4.0.0a0,!=4.0.0a1->fsspec[http]>=2021.05.0->evaluate) (1.6.0)\n",
      "Requirement already satisfied: multidict<7.0,>=4.5 in /usr/local/lib/python3.11/dist-packages (from aiohttp!=4.0.0a0,!=4.0.0a1->fsspec[http]>=2021.05.0->evaluate) (6.4.3)\n",
      "Requirement already satisfied: propcache>=0.2.0 in /usr/local/lib/python3.11/dist-packages (from aiohttp!=4.0.0a0,!=4.0.0a1->fsspec[http]>=2021.05.0->evaluate) (0.3.1)\n",
      "Requirement already satisfied: yarl<2.0,>=1.17.0 in /usr/local/lib/python3.11/dist-packages (from aiohttp!=4.0.0a0,!=4.0.0a1->fsspec[http]>=2021.05.0->evaluate) (1.20.0)\n",
      "Requirement already satisfied: intel-openmp<2026,>=2024 in /usr/local/lib/python3.11/dist-packages (from mkl->numpy>=1.17->evaluate) (2024.2.0)\n",
      "Requirement already satisfied: tbb==2022.* in /usr/local/lib/python3.11/dist-packages (from mkl->numpy>=1.17->evaluate) (2022.1.0)\n",
      "Requirement already satisfied: tcmlib==1.* in /usr/local/lib/python3.11/dist-packages (from tbb==2022.*->mkl->numpy>=1.17->evaluate) (1.3.0)\n",
      "Requirement already satisfied: intel-cmplr-lib-rt in /usr/local/lib/python3.11/dist-packages (from mkl_umath->numpy>=1.17->evaluate) (2024.2.0)\n",
      "Requirement already satisfied: intel-cmplr-lib-ur==2024.2.0 in /usr/local/lib/python3.11/dist-packages (from intel-openmp<2026,>=2024->mkl->numpy>=1.17->evaluate) (2024.2.0)\n",
      "Downloading evaluate-0.4.3-py3-none-any.whl (84 kB)\n",
      "\u001b[2K   \u001b[90m━━━━━━━━━━━━━━━━━━━━━━━━━━━━━━━━━━━━━━━━\u001b[0m \u001b[32m84.0/84.0 kB\u001b[0m \u001b[31m3.5 MB/s\u001b[0m eta \u001b[36m0:00:00\u001b[0m\n",
      "\u001b[?25hDownloading fsspec-2025.3.0-py3-none-any.whl (193 kB)\n",
      "\u001b[2K   \u001b[90m━━━━━━━━━━━━━━━━━━━━━━━━━━━━━━━━━━━━━━━━\u001b[0m \u001b[32m193.6/193.6 kB\u001b[0m \u001b[31m10.6 MB/s\u001b[0m eta \u001b[36m0:00:00\u001b[0m\n",
      "\u001b[?25hBuilding wheels for collected packages: rouge_score\n",
      "  Building wheel for rouge_score (setup.py) ... \u001b[?25l\u001b[?25hdone\n",
      "  Created wheel for rouge_score: filename=rouge_score-0.1.2-py3-none-any.whl size=24934 sha256=6bbdaaa52e295801d7b8a333dbcef252772cd9c8ff649488b2a4240ebbaab64d\n",
      "  Stored in directory: /root/.cache/pip/wheels/1e/19/43/8a442dc83660ca25e163e1bd1f89919284ab0d0c1475475148\n",
      "Successfully built rouge_score\n",
      "Installing collected packages: fsspec, rouge_score, evaluate\n",
      "  Attempting uninstall: fsspec\n",
      "    Found existing installation: fsspec 2025.3.2\n",
      "    Uninstalling fsspec-2025.3.2:\n",
      "      Successfully uninstalled fsspec-2025.3.2\n",
      "\u001b[31mERROR: pip's dependency resolver does not currently take into account all the packages that are installed. This behaviour is the source of the following dependency conflicts.\n",
      "cesium 0.12.4 requires numpy<3.0,>=2.0, but you have numpy 1.26.4 which is incompatible.\n",
      "bigframes 1.42.0 requires rich<14,>=12.4.4, but you have rich 14.0.0 which is incompatible.\n",
      "gcsfs 2025.3.2 requires fsspec==2025.3.2, but you have fsspec 2025.3.0 which is incompatible.\u001b[0m\u001b[31m\n",
      "\u001b[0mSuccessfully installed evaluate-0.4.3 fsspec-2025.3.0 rouge_score-0.1.2\n"
     ]
    }
   ],
   "source": [
    "!pip install evaluate rouge_score"
   ]
  },
  {
   "cell_type": "code",
   "execution_count": 13,
   "metadata": {
    "execution": {
     "iopub.execute_input": "2025-05-20T04:47:46.484189Z",
     "iopub.status.busy": "2025-05-20T04:47:46.483472Z",
     "iopub.status.idle": "2025-05-20T04:47:48.230882Z",
     "shell.execute_reply": "2025-05-20T04:47:48.230058Z",
     "shell.execute_reply.started": "2025-05-20T04:47:46.484161Z"
    },
    "trusted": true
   },
   "outputs": [],
   "source": [
    "import torch\n",
    "import json\n",
    "from tqdm import tqdm\n",
    "from chatbot import Chatbot, ChatbotConfig\n",
    "import evaluate\n",
    "import gc\n",
    "import matplotlib.pyplot as plt\n",
    "import seaborn as sns\n",
    "import pandas as pd\n",
    "\n",
    "rouge = evaluate.load(\"rouge\")\n",
    "\n",
    "def compute_f1(pred_tokens, ref_tokens):\n",
    "    common = set(pred_tokens) & set(ref_tokens)\n",
    "    if not common:\n",
    "        return 0.0\n",
    "    precision = len(common) / len(pred_tokens)\n",
    "    recall = len(common) / len(ref_tokens)\n",
    "    return 2 * (precision * recall) / (precision + recall)\n",
    "\n",
    "test_data = {\n",
    "    \"What is NSA in context of NUST back account?\": \"NUST Sahar Accounts\",\n",
    "    \"What does PWRA stand for?\": \"PakWatan Remittance Account\",\n",
    "    \"How do I delete my mobile banking account?\": \"for security reasons, deactivation or deletion requests must be submitted by calling the helpline at +92 (51) 111 000 494.\",\n",
    "    \"What are the available Liability Products & Services?\": \"NUST Asaan Account (NAA), Little Champs Account , NUST Sahar Accounts, NUST Waqaar Account, PakWatan Remittance Account, NUST Home Remittance, RDA Digital Customer Onboarding , Current Deposit Account (CDA), Value Plus Current Account (Individual) (VPCA), Value Plus Business Account (VP-BA), Value Premium Business Account (VPBA), NUST Maximiser Account, NUST Special Deposit Account (NSDA), Profit And Loss Sharing Account (PLS), NUST Asaan Digital Account, NUST Asaan Digital Remittance Account, NUST Freelancer Digital Account.\",\n",
    "    \"What's the daily transfer limit on the mobile banking app?\": \"1 million PKR. However, it can vary based on account type. You can check your specific limit in the “Limits” section of the app.\",\n",
    "    \"What is the Target Market of Profit and Loss Sharing Account (PLS)?\": \"Individuals (either singly or jointly), Proprietorship Concerns, Partnership Firms, Public and Private Limited Companies, Government Organizations, Corporations, Clubs, Societies, Associations, NGOs/NPOs/Charitable Organizations\",\n",
    "    \"can i use the mobile app while i am overseas?\": \"yes\",\n",
    "    \"What is the Credit Balance Limit in NUST Freelancer Digital Account?\": \"USD 5,000 or equivalent\",\n",
    "    \"What is the profit rate for PWRA?\": \"0.19\",\n",
    "\n",
    "\t\"How do I change my funds transfer limit?\": \"Go to “My profile” → “Manage Limit” in the app and select “Change FT/IBFT” limits.\",\n",
    "\t\"How can I add or update a funds transfer beneficiary in the app?\": \"Use “Transfer Funds” → “New Beneficiaries” to add or update recipient details.\",\n",
    "\t\"Can I use the app to make international transactions?\": \"Yes, go to card management → manage debit card → select “international tranx activation”.\",\n",
    "\t\"Does the NUST app support digital wallets or contactless payments?\": \"Yes, but via a separate app called NUST Digital Wallets.\",\n",
    "\t\"Can I use the app abroad?\": \"Yes, just ensure you have internet and your registered mobile number is active for OTPs.\",\n",
    "\t\"How can I reset my login password if I forget it?\": \"Tap “Forgot Password” on the login screen and follow the steps using your registered mobile number.\",\n",
    "\t\"Is biometric login available in the app?\": \"Yes, you can enable it via the “Profile” section under “Fingerprint Login”.\",\n",
    "\t\"What can I pay using the Bill Payment feature?\": \"Utility, internet, mobile bills, and government fees.\",\n",
    "\t\"How do I delete my mobile banking account?\": \"Call the helpline at +92 (51) 111 000 494 to request deactivation or deletion.\"\n",
    "}"
   ]
  },
  {
   "cell_type": "code",
   "execution_count": 5,
   "metadata": {
    "execution": {
     "iopub.execute_input": "2025-05-20T04:24:04.973535Z",
     "iopub.status.busy": "2025-05-20T04:24:04.972220Z",
     "iopub.status.idle": "2025-05-20T04:24:04.994136Z",
     "shell.execute_reply": "2025-05-20T04:24:04.993340Z",
     "shell.execute_reply.started": "2025-05-20T04:24:04.973492Z"
    },
    "trusted": true
   },
   "outputs": [
    {
     "data": {
      "application/vnd.jupyter.widget-view+json": {
       "model_id": "05b74d1fd6264aa18b37829caebe728e",
       "version_major": 2,
       "version_minor": 0
      },
      "text/plain": [
       "VBox(children=(HTML(value='<center> <img\\nsrc=https://huggingface.co/front/assets/huggingface_logo-noborder.sv…"
      ]
     },
     "metadata": {},
     "output_type": "display_data"
    }
   ],
   "source": [
    "from huggingface_hub import login\n",
    "login()"
   ]
  },
  {
   "cell_type": "code",
   "execution_count": 15,
   "metadata": {
    "execution": {
     "iopub.execute_input": "2025-05-20T04:48:19.071098Z",
     "iopub.status.busy": "2025-05-20T04:48:19.070313Z",
     "iopub.status.idle": "2025-05-20T04:48:19.078406Z",
     "shell.execute_reply": "2025-05-20T04:48:19.077626Z",
     "shell.execute_reply.started": "2025-05-20T04:48:19.071073Z"
    },
    "trusted": true
   },
   "outputs": [],
   "source": [
    "def benchmark(config: ChatbotConfig):\n",
    "    chatbot = Chatbot(config)\n",
    "\n",
    "    scores = []\n",
    "    rouge_results = {}\n",
    "\n",
    "    questions = list(test_data.keys())\n",
    "    answers = list(test_data.values())\n",
    "    preds = chatbot.multiple_queries(questions)\n",
    "\n",
    "    for pred, ans in zip(preds, answers):      \n",
    "        rouge_result = rouge.compute(predictions=[pred], references=[ans], use_stemmer=True)\n",
    "        for k, v in rouge_result.items():\n",
    "            rouge_results[k] = rouge_results.get(k, []) + [v]\n",
    "\n",
    "        ans = chatbot.tokenizer.encode(ans.lower())\n",
    "        pred = chatbot.tokenizer.encode(pred.lower())\n",
    "        score = compute_f1(ans, pred)\n",
    "        scores.append(score)\n",
    "    \n",
    "    scores = sum(scores) / len(scores)\n",
    "    rouge_results = {k: sum(v) / len(v) for k, v in rouge_results.items()}\n",
    "    # rouge_score = list(rouge_results.values())\n",
    "    # rouge_score = sum(rouge_score) / len(rouge_score)\n",
    "\n",
    "    del chatbot\n",
    "    torch.cuda.empty_cache()\n",
    "    gc.collect()\n",
    "\n",
    "    return {\n",
    "        \"f1_score\": scores,\n",
    "        # \"rouge_score\": rouge_score,\n",
    "        **rouge_results,\n",
    "    }\n",
    "\n",
    "def plot_results(results):\n",
    "    # Convert to DataFrame for easy plotting\n",
    "    df = pd.DataFrame(results).T.reset_index().rename(columns={'index': 'model'})\n",
    "    df_melted = df.melt(id_vars='model', var_name='metric', value_name='score')\n",
    "    \n",
    "    # Plot\n",
    "    plt.figure(figsize=(10, 6))\n",
    "    sns.barplot(data=df_melted, x='metric', y='score', hue='model')\n",
    "    plt.title('Model Metric Comparison')\n",
    "    plt.ylim(0, 1)\n",
    "    plt.legend(title='Model')\n",
    "    plt.tight_layout()\n",
    "    plt.show()"
   ]
  },
  {
   "cell_type": "code",
   "execution_count": 16,
   "metadata": {
    "execution": {
     "iopub.execute_input": "2025-05-20T04:48:39.521288Z",
     "iopub.status.busy": "2025-05-20T04:48:39.520764Z",
     "iopub.status.idle": "2025-05-20T04:49:35.537058Z",
     "shell.execute_reply": "2025-05-20T04:49:35.536305Z",
     "shell.execute_reply.started": "2025-05-20T04:48:39.521268Z"
    },
    "trusted": true
   },
   "outputs": [
    {
     "data": {
      "application/vnd.jupyter.widget-view+json": {
       "model_id": "d5ca60d174784d91aacfb9366fde69fc",
       "version_major": 2,
       "version_minor": 0
      },
      "text/plain": [
       "Batches:   0%|          | 0/1 [00:00<?, ?it/s]"
      ]
     },
     "metadata": {},
     "output_type": "display_data"
    },
    {
     "data": {
      "application/vnd.jupyter.widget-view+json": {
       "model_id": "0e2ccc2477e246eba887319fb5731a75",
       "version_major": 2,
       "version_minor": 0
      },
      "text/plain": [
       "Batches:   0%|          | 0/1 [00:00<?, ?it/s]"
      ]
     },
     "metadata": {},
     "output_type": "display_data"
    },
    {
     "data": {
      "application/vnd.jupyter.widget-view+json": {
       "model_id": "88f7c902ab7e47689d78300ad25e468d",
       "version_major": 2,
       "version_minor": 0
      },
      "text/plain": [
       "Batches:   0%|          | 0/1 [00:00<?, ?it/s]"
      ]
     },
     "metadata": {},
     "output_type": "display_data"
    },
    {
     "data": {
      "application/vnd.jupyter.widget-view+json": {
       "model_id": "b6228b2387074050aaddfd4015f1d96c",
       "version_major": 2,
       "version_minor": 0
      },
      "text/plain": [
       "Batches:   0%|          | 0/1 [00:00<?, ?it/s]"
      ]
     },
     "metadata": {},
     "output_type": "display_data"
    },
    {
     "data": {
      "image/png": "[encoded data removed]",
      "text/plain": [
       "<Figure size 1000x600 with 1 Axes>"
      ]
     },
     "metadata": {},
     "output_type": "display_data"
    }
   ],
   "source": [
    "# top_k = {1, 3, 5, 7}\n",
    "\n",
    "states = {\n",
    "    \"flan_1\": ChatbotConfig(\n",
    "        chatbot_model_name=\"google/flan-t5-large\", # 783M\n",
    "        top_k=1,\n",
    "        device=\"cuda\",\n",
    "    ),\n",
    "    \"flan_3\": ChatbotConfig(\n",
    "        chatbot_model_name=\"google/flan-t5-large\", # 783M\n",
    "        top_k=3,\n",
    "        device=\"cuda\",\n",
    "    ),\n",
    "    \"flan_5\": ChatbotConfig(\n",
    "        chatbot_model_name=\"google/flan-t5-large\", # 783M\n",
    "        top_k=5,\n",
    "        device=\"cuda\",\n",
    "    ),\n",
    "    \"flan_7\": ChatbotConfig(\n",
    "        chatbot_model_name=\"google/flan-t5-large\", # 783M\n",
    "        top_k=7,\n",
    "        device=\"cuda\",\n",
    "    ),\n",
    "}\n",
    "results = {}\n",
    "for k, v in states.items():\n",
    "    results[k] = benchmark(v)\n",
    "plot_results(results)"
   ]
  },
  {
   "cell_type": "code",
   "execution_count": 17,
   "metadata": {
    "execution": {
     "iopub.execute_input": "2025-05-20T04:49:35.538609Z",
     "iopub.status.busy": "2025-05-20T04:49:35.538306Z",
     "iopub.status.idle": "2025-05-20T04:50:59.593306Z",
     "shell.execute_reply": "2025-05-20T04:50:59.592603Z",
     "shell.execute_reply.started": "2025-05-20T04:49:35.538592Z"
    },
    "trusted": true
   },
   "outputs": [
    {
     "data": {
      "application/vnd.jupyter.widget-view+json": {
       "model_id": "c6639c40e9ff4f3b8d6707f6c258e378",
       "version_major": 2,
       "version_minor": 0
      },
      "text/plain": [
       "Batches:   0%|          | 0/1 [00:00<?, ?it/s]"
      ]
     },
     "metadata": {},
     "output_type": "display_data"
    },
    {
     "data": {
      "application/vnd.jupyter.widget-view+json": {
       "model_id": "61ce18967fde402a9c1a429ced5a81f4",
       "version_major": 2,
       "version_minor": 0
      },
      "text/plain": [
       "Batches:   0%|          | 0/1 [00:00<?, ?it/s]"
      ]
     },
     "metadata": {},
     "output_type": "display_data"
    },
    {
     "data": {
      "application/vnd.jupyter.widget-view+json": {
       "model_id": "76ac2e8931b9446a8eb5d504573640c4",
       "version_major": 2,
       "version_minor": 0
      },
      "text/plain": [
       "Batches:   0%|          | 0/1 [00:00<?, ?it/s]"
      ]
     },
     "metadata": {},
     "output_type": "display_data"
    },
    {
     "data": {
      "application/vnd.jupyter.widget-view+json": {
       "model_id": "7ee0e6442e9e44ed8d6450f4b9d1ed0e",
       "version_major": 2,
       "version_minor": 0
      },
      "text/plain": [
       "Batches:   0%|          | 0/1 [00:00<?, ?it/s]"
      ]
     },
     "metadata": {},
     "output_type": "display_data"
    },
    {
     "data": {
      "image/png": "[encoded data removed]",
      "text/plain": [
       "<Figure size 1000x600 with 1 Axes>"
      ]
     },
     "metadata": {},
     "output_type": "display_data"
    }
   ],
   "source": [
    "# top_k = {1, 3, 5, 7}\n",
    "\n",
    "states = {\n",
    "    \"qwen_1\": ChatbotConfig(\n",
    "        chatbot_model_name=\"Qwen/Qwen3-0.6B\",\n",
    "        top_k=1,\n",
    "        device=\"cuda\",\n",
    "    ),\n",
    "    \"qwen_3\": ChatbotConfig(\n",
    "        chatbot_model_name=\"Qwen/Qwen3-0.6B\",\n",
    "        top_k=3,\n",
    "        device=\"cuda\",\n",
    "    ),\n",
    "    \"qwen_5\": ChatbotConfig(\n",
    "        chatbot_model_name=\"Qwen/Qwen3-0.6B\",\n",
    "        top_k=5,\n",
    "        device=\"cuda\",\n",
    "    ),\n",
    "    \"qwen_7\": ChatbotConfig(\n",
    "        chatbot_model_name=\"Qwen/Qwen3-0.6B\",\n",
    "        top_k=7,\n",
    "        device=\"cuda\",\n",
    "    ),\n",
    "}\n",
    "results = {}\n",
    "for k, v in states.items():\n",
    "    results[k] = benchmark(v)\n",
    "plot_results(results)"
   ]
  },
  {
   "cell_type": "code",
   "execution_count": 9,
   "metadata": {
    "execution": {
     "iopub.execute_input": "2025-05-20T04:27:29.299613Z",
     "iopub.status.busy": "2025-05-20T04:27:29.299370Z",
     "iopub.status.idle": "2025-05-20T04:37:17.488476Z",
     "shell.execute_reply": "2025-05-20T04:37:17.487697Z",
     "shell.execute_reply.started": "2025-05-20T04:27:29.299594Z"
    },
    "trusted": true
   },
   "outputs": [
    {
     "data": {
      "application/vnd.jupyter.widget-view+json": {
       "model_id": "d6cfac09e97443438bc996c4e93532e2",
       "version_major": 2,
       "version_minor": 0
      },
      "text/plain": [
       "tokenizer_config.json:   0%|          | 0.00/50.5k [00:00<?, ?B/s]"
      ]
     },
     "metadata": {},
     "output_type": "display_data"
    },
    {
     "data": {
      "application/vnd.jupyter.widget-view+json": {
       "model_id": "5e93b292cc0d4cf0bb2f8bc1f7ca71a5",
       "version_major": 2,
       "version_minor": 0
      },
      "text/plain": [
       "tokenizer.json:   0%|          | 0.00/9.09M [00:00<?, ?B/s]"
      ]
     },
     "metadata": {},
     "output_type": "display_data"
    },
    {
     "data": {
      "application/vnd.jupyter.widget-view+json": {
       "model_id": "a66a3d1a665e4c119477779498ce63e4",
       "version_major": 2,
       "version_minor": 0
      },
      "text/plain": [
       "special_tokens_map.json:   0%|          | 0.00/301 [00:00<?, ?B/s]"
      ]
     },
     "metadata": {},
     "output_type": "display_data"
    },
    {
     "data": {
      "application/vnd.jupyter.widget-view+json": {
       "model_id": "85162296b47e49a1bc422b81d7a9322a",
       "version_major": 2,
       "version_minor": 0
      },
      "text/plain": [
       "config.json:   0%|          | 0.00/843 [00:00<?, ?B/s]"
      ]
     },
     "metadata": {},
     "output_type": "display_data"
    },
    {
     "data": {
      "application/vnd.jupyter.widget-view+json": {
       "model_id": "72841d1ab5494ded93917d47ee89ca1d",
       "version_major": 2,
       "version_minor": 0
      },
      "text/plain": [
       "model.safetensors:   0%|          | 0.00/2.47G [00:00<?, ?B/s]"
      ]
     },
     "metadata": {},
     "output_type": "display_data"
    },
    {
     "data": {
      "application/vnd.jupyter.widget-view+json": {
       "model_id": "9772780237db4b5dbc7bc3c1ec939d1b",
       "version_major": 2,
       "version_minor": 0
      },
      "text/plain": [
       "generation_config.json:   0%|          | 0.00/185 [00:00<?, ?B/s]"
      ]
     },
     "metadata": {},
     "output_type": "display_data"
    },
    {
     "data": {
      "application/vnd.jupyter.widget-view+json": {
       "model_id": "3041eb1e6d544df3821eef179f2860fe",
       "version_major": 2,
       "version_minor": 0
      },
      "text/plain": [
       "Batches:   0%|          | 0/1 [00:00<?, ?it/s]"
      ]
     },
     "metadata": {},
     "output_type": "display_data"
    },
    {
     "name": "stderr",
     "output_type": "stream",
     "text": [
      "Setting `pad_token_id` to `eos_token_id`:128001 for open-end generation.\n"
     ]
    },
    {
     "data": {
      "application/vnd.jupyter.widget-view+json": {
       "model_id": "a8f01c4c6ad2435c857d13abcdcdf6cf",
       "version_major": 2,
       "version_minor": 0
      },
      "text/plain": [
       "Batches:   0%|          | 0/1 [00:00<?, ?it/s]"
      ]
     },
     "metadata": {},
     "output_type": "display_data"
    },
    {
     "name": "stderr",
     "output_type": "stream",
     "text": [
      "Setting `pad_token_id` to `eos_token_id`:128001 for open-end generation.\n"
     ]
    },
    {
     "data": {
      "application/vnd.jupyter.widget-view+json": {
       "model_id": "47869e762d484c21890c5554e3ef783d",
       "version_major": 2,
       "version_minor": 0
      },
      "text/plain": [
       "Batches:   0%|          | 0/1 [00:00<?, ?it/s]"
      ]
     },
     "metadata": {},
     "output_type": "display_data"
    },
    {
     "name": "stderr",
     "output_type": "stream",
     "text": [
      "Setting `pad_token_id` to `eos_token_id`:128001 for open-end generation.\n"
     ]
    },
    {
     "data": {
      "application/vnd.jupyter.widget-view+json": {
       "model_id": "b92cf5954ece4cbc8d4196efafe7d5f1",
       "version_major": 2,
       "version_minor": 0
      },
      "text/plain": [
       "Batches:   0%|          | 0/1 [00:00<?, ?it/s]"
      ]
     },
     "metadata": {},
     "output_type": "display_data"
    },
    {
     "name": "stderr",
     "output_type": "stream",
     "text": [
      "Setting `pad_token_id` to `eos_token_id`:128001 for open-end generation.\n"
     ]
    },
    {
     "data": {
      "image/png": "[encoded data removed]",
      "text/plain": [
       "<Figure size 1000x600 with 1 Axes>"
      ]
     },
     "metadata": {},
     "output_type": "display_data"
    }
   ],
   "source": [
    "# top_k = {1, 3, 5, 7}\n",
    "\n",
    "states = {\n",
    "    \"llama_1\": ChatbotConfig(\n",
    "        chatbot_model_name=\"meta-llama/Llama-3.2-1B\",\n",
    "        top_k=1,\n",
    "        device=\"cuda\",\n",
    "    ),\n",
    "    \"llama_3\": ChatbotConfig(\n",
    "        chatbot_model_name=\"meta-llama/Llama-3.2-1B\",\n",
    "        top_k=3,\n",
    "        device=\"cuda\",\n",
    "    ),\n",
    "    \"llama_5\": ChatbotConfig(\n",
    "        chatbot_model_name=\"meta-llama/Llama-3.2-1B\",\n",
    "        top_k=5,\n",
    "        device=\"cuda\",\n",
    "    ),\n",
    "    \"llama_7\": ChatbotConfig(\n",
    "        chatbot_model_name=\"meta-llama/Llama-3.2-1B\",\n",
    "        top_k=7,\n",
    "        device=\"cuda\",\n",
    "    ),\n",
    "}\n",
    "results = {}\n",
    "for k, v in states.items():\n",
    "    results[k] = benchmark(v)\n",
    "plot_results(results)"
   ]
  },
  {
   "cell_type": "code",
   "execution_count": 19,
   "metadata": {
    "execution": {
     "iopub.execute_input": "2025-05-20T04:56:09.137929Z",
     "iopub.status.busy": "2025-05-20T04:56:09.137275Z",
     "iopub.status.idle": "2025-05-20T04:56:50.611411Z",
     "shell.execute_reply": "2025-05-20T04:56:50.610645Z",
     "shell.execute_reply.started": "2025-05-20T04:56:09.137903Z"
    },
    "trusted": true
   },
   "outputs": [
    {
     "data": {
      "application/vnd.jupyter.widget-view+json": {
       "model_id": "d5c8b0f446064087b02a158ec4ef14d7",
       "version_major": 2,
       "version_minor": 0
      },
      "text/plain": [
       "Batches:   0%|          | 0/1 [00:00<?, ?it/s]"
      ]
     },
     "metadata": {},
     "output_type": "display_data"
    },
    {
     "data": {
      "application/vnd.jupyter.widget-view+json": {
       "model_id": "c3659daa1e9948318a207527100ae8fd",
       "version_major": 2,
       "version_minor": 0
      },
      "text/plain": [
       "Batches:   0%|          | 0/1 [00:00<?, ?it/s]"
      ]
     },
     "metadata": {},
     "output_type": "display_data"
    },
    {
     "data": {
      "image/png": "[encoded data removed]",
      "text/plain": [
       "<Figure size 1000x600 with 1 Axes>"
      ]
     },
     "metadata": {},
     "output_type": "display_data"
    }
   ],
   "source": [
    "# model = {flan, qwen, llama}\n",
    "\n",
    "states = {\n",
    "    # \"llama_1\": ChatbotConfig(\n",
    "    #     chatbot_model_name=\"meta-llama/Llama-3.2-1B\",\n",
    "    #     top_k=1,\n",
    "    #     device=\"cuda\",\n",
    "    # ),\n",
    "    \"flan_1\": ChatbotConfig(\n",
    "        chatbot_model_name=\"google/flan-t5-large\", # 783M\n",
    "        top_k=1,\n",
    "        device=\"cuda\",\n",
    "    ),\n",
    "    \"qwen_5\": ChatbotConfig(\n",
    "        chatbot_model_name=\"Qwen/Qwen3-0.6B\", # 752M\n",
    "        top_k=5,\n",
    "        device=\"cuda\",\n",
    "    ),\n",
    "}\n",
    "results = {}\n",
    "for k, v in states.items():\n",
    "    results[k] = benchmark(v)\n",
    "plot_results(results)"
   ]
  },
  {
   "cell_type": "code",
   "execution_count": 11,
   "metadata": {
    "execution": {
     "iopub.execute_input": "2025-05-20T04:42:07.496573Z",
     "iopub.status.busy": "2025-05-20T04:42:07.496043Z",
     "iopub.status.idle": "2025-05-20T04:44:00.393502Z",
     "shell.execute_reply": "2025-05-20T04:44:00.392725Z",
     "shell.execute_reply.started": "2025-05-20T04:42:07.496551Z"
    },
    "trusted": true
   },
   "outputs": [
    {
     "data": {
      "application/vnd.jupyter.widget-view+json": {
       "model_id": "dedeb8a7a20e405285e80f4b01d9c7d6",
       "version_major": 2,
       "version_minor": 0
      },
      "text/plain": [
       "Batches:   0%|          | 0/1 [00:00<?, ?it/s]"
      ]
     },
     "metadata": {},
     "output_type": "display_data"
    },
    {
     "name": "stderr",
     "output_type": "stream",
     "text": [
      "Setting `pad_token_id` to `eos_token_id`:151643 for open-end generation.\n"
     ]
    },
    {
     "data": {
      "application/vnd.jupyter.widget-view+json": {
       "model_id": "7754a010fd6540988db8ab26b3c36d92",
       "version_major": 2,
       "version_minor": 0
      },
      "text/plain": [
       "Batches:   0%|          | 0/1 [00:00<?, ?it/s]"
      ]
     },
     "metadata": {},
     "output_type": "display_data"
    },
    {
     "data": {
      "application/vnd.jupyter.widget-view+json": {
       "model_id": "7820dd00ee944a13bb0d6e4bbe698b6f",
       "version_major": 2,
       "version_minor": 0
      },
      "text/plain": [
       "Batches:   0%|          | 0/1 [00:00<?, ?it/s]"
      ]
     },
     "metadata": {},
     "output_type": "display_data"
    },
    {
     "data": {
      "image/png": "[encoded data removed]",
      "text/plain": [
       "<Figure size 1000x600 with 1 Axes>"
      ]
     },
     "metadata": {},
     "output_type": "display_data"
    }
   ],
   "source": [
    "# model = {flan, qwen, llama}\n",
    "\n",
    "states = {\n",
    "    \"Qwen 0.5B\": ChatbotConfig(\n",
    "        chatbot_model_name=\"Qwen/Qwen2.5-0.5B\",\n",
    "        top_k=5,\n",
    "        device=\"cuda\",\n",
    "    ),\n",
    "    \"Qwen 0.5B-Instruct\": ChatbotConfig(\n",
    "        chatbot_model_name=\"Qwen/Qwen2.5-0.5B-Instruct\",\n",
    "        top_k=5,\n",
    "        device=\"cuda\",\n",
    "    ),\n",
    "    \"Qwen 0.6B\": ChatbotConfig(\n",
    "        chatbot_model_name=\"Qwen/Qwen3-0.6B\",\n",
    "        top_k=5,\n",
    "        device=\"cuda\",\n",
    "    ),\n",
    "    # \"Qwen 0.6B-FP8\": ChatbotConfig(\n",
    "    #     chatbot_model_name=\"Qwen/Qwen3-0.6B-FP8\",\n",
    "    #     top_k=5,\n",
    "    #     device=\"cuda\",\n",
    "    # ),\n",
    "}\n",
    "results = {}\n",
    "for k, v in states.items():\n",
    "    results[k] = benchmark(v)\n",
    "plot_results(results)"
   ]
  },
  {
   "cell_type": "code",
   "execution_count": null,
   "metadata": {
    "trusted": true
   },
   "outputs": [],
   "source": []
  }
 ],
 "metadata": {
  "kaggle": {
   "accelerator": "gpu",
   "dataSources": [],
   "dockerImageVersionId": 31041,
   "isGpuEnabled": true,
   "isInternetEnabled": true,
   "language": "python",
   "sourceType": "notebook"
  },
  "kernelspec": {
   "display_name": "Python 3",
   "language": "python",
   "name": "python3"
  },
  "language_info": {
   "codemirror_mode": {
    "name": "ipython",
    "version": 3
   },
   "file_extension": ".py",
   "mimetype": "text/x-python",
   "name": "python",
   "nbconvert_exporter": "python",
   "pygments_lexer": "ipython3",
   "version": "3.11.11"
  }
 },
 "nbformat": 4,
 "nbformat_minor": 4
}
